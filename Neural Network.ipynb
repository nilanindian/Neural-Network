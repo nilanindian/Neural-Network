{
 "cells": [
  {
   "cell_type": "code",
   "execution_count": 1,
   "id": "baaca3ef",
   "metadata": {},
   "outputs": [],
   "source": [
    "import tensorflow as tf\n",
    "import numpy as np\n",
    "import pandas as pd\n",
    "import matplotlib.pyplot as plt\n",
    "from tensorflow import keras\n",
    "from keras import *"
   ]
  },
  {
   "cell_type": "code",
   "execution_count": null,
   "id": "45a5781b",
   "metadata": {},
   "outputs": [],
   "source": []
  },
  {
   "cell_type": "code",
   "execution_count": 2,
   "id": "3d849edb",
   "metadata": {},
   "outputs": [],
   "source": [
    "# Loading tha mnist dataset, which contains handwritten digits data \n",
    "(x_tr,y_tr),(x_ts,y_ts)=keras.datasets.mnist.load_data()"
   ]
  },
  {
   "cell_type": "code",
   "execution_count": 3,
   "id": "97d4a2ff",
   "metadata": {},
   "outputs": [
    {
     "data": {
      "text/plain": [
       "(60000, 28, 28)"
      ]
     },
     "execution_count": 3,
     "metadata": {},
     "output_type": "execute_result"
    }
   ],
   "source": [
    "x_tr.shape"
   ]
  },
  {
   "cell_type": "code",
   "execution_count": 4,
   "id": "5d3cd986",
   "metadata": {},
   "outputs": [
    {
     "data": {
      "text/plain": [
       "(10000, 28, 28)"
      ]
     },
     "execution_count": 4,
     "metadata": {},
     "output_type": "execute_result"
    }
   ],
   "source": [
    "x_ts.shape"
   ]
  },
  {
   "cell_type": "code",
   "execution_count": 5,
   "id": "6da67c38",
   "metadata": {},
   "outputs": [
    {
     "data": {
      "image/png": "[encoded data removed]",
      "text/plain": [
       "<Figure size 345.6x345.6 with 1 Axes>"
      ]
     },
     "metadata": {
      "needs_background": "light"
     },
     "output_type": "display_data"
    },
    {
     "data": {
      "image/png": "[encoded data removed]",
      "text/plain": [
       "<Figure size 288x288 with 1 Axes>"
      ]
     },
     "metadata": {
      "needs_background": "light"
     },
     "output_type": "display_data"
    },
    {
     "data": {
      "image/png": "[encoded data removed]",
      "text/plain": [
       "<Figure size 288x288 with 1 Axes>"
      ]
     },
     "metadata": {
      "needs_background": "light"
     },
     "output_type": "display_data"
    },
    {
     "data": {
      "image/png": "[encoded data removed]",
      "text/plain": [
       "<Figure size 288x288 with 1 Axes>"
      ]
     },
     "metadata": {
      "needs_background": "light"
     },
     "output_type": "display_data"
    },
    {
     "data": {
      "image/png": "[encoded data removed]",
      "text/plain": [
       "<Figure size 288x288 with 1 Axes>"
      ]
     },
     "metadata": {
      "needs_background": "light"
     },
     "output_type": "display_data"
    }
   ],
   "source": [
    "for i in range(5):\n",
    "    plt.matshow(x_tr[i])"
   ]
  },
  {
   "cell_type": "code",
   "execution_count": 6,
   "id": "4cfb442c",
   "metadata": {},
   "outputs": [
    {
     "name": "stdout",
     "output_type": "stream",
     "text": [
      "5\n",
      "0\n",
      "4\n",
      "1\n",
      "9\n"
     ]
    }
   ],
   "source": [
    "for i in range(5):\n",
    "    print(y_tr[i])"
   ]
  },
  {
   "cell_type": "code",
   "execution_count": null,
   "id": "57020627",
   "metadata": {},
   "outputs": [],
   "source": []
  },
  {
   "cell_type": "code",
   "execution_count": 7,
   "id": "1058ef31",
   "metadata": {},
   "outputs": [],
   "source": [
    "# scalling the input data\n",
    "\n",
    "x_tr=x_tr/255\n",
    "x_ts=x_ts/255"
   ]
  },
  {
   "cell_type": "code",
   "execution_count": 8,
   "id": "87f37bba",
   "metadata": {},
   "outputs": [],
   "source": [
    "# flating input data\n",
    "\n",
    "x_tr_flat=x_tr.reshape(len(x_tr),28*28)\n",
    "x_ts_flat=x_ts.reshape(len(x_ts),28*28)"
   ]
  },
  {
   "cell_type": "code",
   "execution_count": 9,
   "id": "bf6a84fd",
   "metadata": {},
   "outputs": [
    {
     "data": {
      "text/plain": [
       "((60000, 784), (60000, 784))"
      ]
     },
     "execution_count": 9,
     "metadata": {},
     "output_type": "execute_result"
    }
   ],
   "source": [
    "x_tr_flat.shape, x_tr_flat.shape"
   ]
  },
  {
   "cell_type": "code",
   "execution_count": null,
   "id": "3d8e97ae",
   "metadata": {},
   "outputs": [],
   "source": []
  },
  {
   "cell_type": "markdown",
   "id": "3117815e",
   "metadata": {},
   "source": [
    "# neural network with no hidden layers"
   ]
  },
  {
   "cell_type": "code",
   "execution_count": 10,
   "id": "4de9a8ca",
   "metadata": {},
   "outputs": [],
   "source": [
    "#creating the model's class\n",
    "model=keras.Sequential()"
   ]
  },
  {
   "cell_type": "code",
   "execution_count": 11,
   "id": "2ff7925d",
   "metadata": {},
   "outputs": [
    {
     "data": {
      "text/plain": [
       "<keras.engine.sequential.Sequential at 0x1352e54b670>"
      ]
     },
     "execution_count": 11,
     "metadata": {},
     "output_type": "execute_result"
    }
   ],
   "source": [
    "model"
   ]
  },
  {
   "cell_type": "code",
   "execution_count": 12,
   "id": "4492cf52",
   "metadata": {},
   "outputs": [],
   "source": [
    "# design the model\n",
    "\n",
    "model.add(layers.Dense(10,input_shape=(784,), activation='sigmoid' ))"
   ]
  },
  {
   "cell_type": "code",
   "execution_count": 13,
   "id": "7c594425",
   "metadata": {},
   "outputs": [],
   "source": [
    "# compile the model\n",
    "\n",
    "model.compile(optimizer='adam',loss='sparse_categorical_crossentropy', metrics=['accuracy'])"
   ]
  },
  {
   "cell_type": "code",
   "execution_count": 14,
   "id": "84f1c3b0",
   "metadata": {},
   "outputs": [
    {
     "name": "stdout",
     "output_type": "stream",
     "text": [
      "Epoch 1/5\n",
      "1875/1875 [==============================] - 6s 2ms/step - loss: 0.4695 - accuracy: 0.8775\n",
      "Epoch 2/5\n",
      "1875/1875 [==============================] - 5s 3ms/step - loss: 0.3042 - accuracy: 0.9148\n",
      "Epoch 3/5\n",
      "1875/1875 [==============================] - 5s 2ms/step - loss: 0.2830 - accuracy: 0.9211\n",
      "Epoch 4/5\n",
      "1875/1875 [==============================] - 5s 2ms/step - loss: 0.2732 - accuracy: 0.9233\n",
      "Epoch 5/5\n",
      "1875/1875 [==============================] - 5s 2ms/step - loss: 0.2666 - accuracy: 0.9256\n"
     ]
    },
    {
     "data": {
      "text/plain": [
       "<keras.callbacks.History at 0x1352a063ee0>"
      ]
     },
     "execution_count": 14,
     "metadata": {},
     "output_type": "execute_result"
    }
   ],
   "source": [
    "# train / apply the model on data\n",
    "model.fit(x_tr_flat,y_tr, epochs= 5)"
   ]
  },
  {
   "cell_type": "code",
   "execution_count": 15,
   "id": "6d0c46fa",
   "metadata": {},
   "outputs": [
    {
     "name": "stdout",
     "output_type": "stream",
     "text": [
      "313/313 [==============================] - 1s 3ms/step - loss: 0.2688 - accuracy: 0.9249\n"
     ]
    },
    {
     "data": {
      "text/plain": [
       "[0.26884859800338745, 0.9248999953269958]"
      ]
     },
     "execution_count": 15,
     "metadata": {},
     "output_type": "execute_result"
    }
   ],
   "source": [
    "# evaluate the model for testing\n",
    "\n",
    "model.evaluate(x_ts_flat,y_ts)"
   ]
  },
  {
   "cell_type": "code",
   "execution_count": 16,
   "id": "86da5604",
   "metadata": {},
   "outputs": [
    {
     "name": "stdout",
     "output_type": "stream",
     "text": [
      "313/313 [==============================] - 1s 2ms/step\n"
     ]
    }
   ],
   "source": [
    "y_pred=model.predict(x_ts_flat)"
   ]
  },
  {
   "cell_type": "code",
   "execution_count": 17,
   "id": "dfba053e",
   "metadata": {},
   "outputs": [
    {
     "data": {
      "text/plain": [
       "array([9.9946153e-01, 1.4590791e-08, 7.1632639e-02, 3.4134162e-03,\n",
       "       2.3832039e-05, 4.5916088e-02, 8.7303929e-02, 7.4279858e-03,\n",
       "       2.0897370e-02, 1.1629194e-02], dtype=float32)"
      ]
     },
     "execution_count": 17,
     "metadata": {},
     "output_type": "execute_result"
    }
   ],
   "source": [
    "y_pred[3]"
   ]
  },
  {
   "cell_type": "code",
   "execution_count": 18,
   "id": "73b8df64",
   "metadata": {},
   "outputs": [
    {
     "data": {
      "text/plain": [
       "0"
      ]
     },
     "execution_count": 18,
     "metadata": {},
     "output_type": "execute_result"
    }
   ],
   "source": [
    "np.argmax(y_pred[3])"
   ]
  },
  {
   "cell_type": "code",
   "execution_count": 19,
   "id": "69f4a9e7",
   "metadata": {},
   "outputs": [
    {
     "data": {
      "text/plain": [
       "0"
      ]
     },
     "execution_count": 19,
     "metadata": {},
     "output_type": "execute_result"
    }
   ],
   "source": [
    "y_ts[3]"
   ]
  },
  {
   "cell_type": "code",
   "execution_count": 20,
   "id": "d6f524b7",
   "metadata": {},
   "outputs": [
    {
     "data": {
      "text/plain": [
       "<matplotlib.image.AxesImage at 0x1352b2f3370>"
      ]
     },
     "execution_count": 20,
     "metadata": {},
     "output_type": "execute_result"
    },
    {
     "data": {
      "image/png": "[encoded data removed]",
      "text/plain": [
       "<Figure size 288x288 with 1 Axes>"
      ]
     },
     "metadata": {
      "needs_background": "light"
     },
     "output_type": "display_data"
    }
   ],
   "source": [
    "plt.matshow(x_ts[3])"
   ]
  },
  {
   "cell_type": "code",
   "execution_count": 21,
   "id": "a0b368e2",
   "metadata": {},
   "outputs": [
    {
     "data": {
      "text/plain": [
       "[7, 2, 1, 0, 4]"
      ]
     },
     "execution_count": 21,
     "metadata": {},
     "output_type": "execute_result"
    }
   ],
   "source": [
    "# extracting the maximun vote/ % result\n",
    "\n",
    "y_predicted=[np.argmax(i) for i in y_pred]\n",
    "y_predicted[:5]"
   ]
  },
  {
   "cell_type": "code",
   "execution_count": 22,
   "id": "d7a6b78c",
   "metadata": {},
   "outputs": [],
   "source": [
    "# creating the confusion matrices\n",
    "\n",
    "from sklearn.metrics import confusion_matrix , ConfusionMatrixDisplay"
   ]
  },
  {
   "cell_type": "code",
   "execution_count": 23,
   "id": "1f8bab4b",
   "metadata": {},
   "outputs": [],
   "source": [
    "c_mat=confusion_matrix(y_ts,y_predicted)"
   ]
  },
  {
   "cell_type": "code",
   "execution_count": 24,
   "id": "5e3122b3",
   "metadata": {},
   "outputs": [
    {
     "data": {
      "text/plain": [
       "array([[ 967,    0,    1,    2,    0,    4,    3,    2,    1,    0],\n",
       "       [   0, 1110,    3,    2,    0,    1,    4,    2,   13,    0],\n",
       "       [   9,    9,  919,   16,    6,    1,   13,   10,   45,    4],\n",
       "       [   4,    0,   18,  923,    0,   20,    3,   10,   25,    7],\n",
       "       [   1,    1,    6,    1,  911,    0,   11,    4,   13,   34],\n",
       "       [  11,    3,    3,   41,    9,  755,   15,    7,   42,    6],\n",
       "       [  11,    3,    6,    1,    7,    7,  917,    2,    4,    0],\n",
       "       [   1,    5,   21,    7,    7,    1,    0,  940,    6,   40],\n",
       "       [   6,    7,    6,   17,    9,   17,    9,    9,  889,    5],\n",
       "       [  11,    7,    1,   12,   27,    6,    0,   16,   11,  918]],\n",
       "      dtype=int64)"
      ]
     },
     "execution_count": 24,
     "metadata": {},
     "output_type": "execute_result"
    }
   ],
   "source": [
    "c_mat"
   ]
  },
  {
   "cell_type": "code",
   "execution_count": 25,
   "id": "740addea",
   "metadata": {},
   "outputs": [
    {
     "data": {
      "text/plain": [
       "<sklearn.metrics._plot.confusion_matrix.ConfusionMatrixDisplay at 0x1352be91b80>"
      ]
     },
     "execution_count": 25,
     "metadata": {},
     "output_type": "execute_result"
    },
    {
     "data": {
      "image/png": "[encoded data removed]",
      "text/plain": [
       "<Figure size 432x288 with 2 Axes>"
      ]
     },
     "metadata": {
      "needs_background": "light"
     },
     "output_type": "display_data"
    }
   ],
   "source": [
    "disp=ConfusionMatrixDisplay(c_mat)\n",
    "disp.plot()"
   ]
  },
  {
   "cell_type": "code",
   "execution_count": null,
   "id": "c4074b3b",
   "metadata": {},
   "outputs": [],
   "source": []
  },
  {
   "cell_type": "markdown",
   "id": "fbbb0872",
   "metadata": {},
   "source": [
    "# now trying create neural network with hidden layers"
   ]
  },
  {
   "cell_type": "code",
   "execution_count": 26,
   "id": "b27eba64",
   "metadata": {},
   "outputs": [],
   "source": [
    "# initialize the model\n",
    "\n",
    "model_h=keras.Sequential()"
   ]
  },
  {
   "cell_type": "code",
   "execution_count": 27,
   "id": "27b6162c",
   "metadata": {},
   "outputs": [],
   "source": [
    "# design the model\n",
    "\n",
    "model_h.add(layers.Dense(100, input_shape=(784,), activation='relu'))  # a hidden layer\n",
    "model_h.add(layers.Dense(10,activation='sigmoid'))"
   ]
  },
  {
   "cell_type": "code",
   "execution_count": 28,
   "id": "232ad5d1",
   "metadata": {},
   "outputs": [],
   "source": [
    "# compile the model\n",
    "\n",
    "model_h.compile(optimizer='adam',loss='sparse_categorical_crossentropy',metrics=['accuracy'])"
   ]
  },
  {
   "cell_type": "code",
   "execution_count": 29,
   "id": "b77e44bc",
   "metadata": {},
   "outputs": [
    {
     "name": "stdout",
     "output_type": "stream",
     "text": [
      "Epoch 1/5\n",
      "1875/1875 [==============================] - 8s 4ms/step - loss: 0.2668 - accuracy: 0.9244\n",
      "Epoch 2/5\n",
      "1875/1875 [==============================] - 7s 4ms/step - loss: 0.1194 - accuracy: 0.9651\n",
      "Epoch 3/5\n",
      "1875/1875 [==============================] - 7s 4ms/step - loss: 0.0844 - accuracy: 0.9747\n",
      "Epoch 4/5\n",
      "1875/1875 [==============================] - 7s 4ms/step - loss: 0.0652 - accuracy: 0.9803\n",
      "Epoch 5/5\n",
      "1875/1875 [==============================] - 7s 4ms/step - loss: 0.0503 - accuracy: 0.9844\n"
     ]
    },
    {
     "data": {
      "text/plain": [
       "<keras.callbacks.History at 0x1352e53f070>"
      ]
     },
     "execution_count": 29,
     "metadata": {},
     "output_type": "execute_result"
    }
   ],
   "source": [
    "# apply/train the model\n",
    "\n",
    "model_h.fit(x_tr_flat,y_tr,epochs=5)"
   ]
  },
  {
   "cell_type": "code",
   "execution_count": 30,
   "id": "b0fba916",
   "metadata": {},
   "outputs": [
    {
     "name": "stdout",
     "output_type": "stream",
     "text": [
      "313/313 [==============================] - 1s 2ms/step - loss: 0.0770 - accuracy: 0.9764\n"
     ]
    },
    {
     "data": {
      "text/plain": [
       "[0.07695586234331131, 0.9764000177383423]"
      ]
     },
     "execution_count": 30,
     "metadata": {},
     "output_type": "execute_result"
    }
   ],
   "source": [
    "# evaluate for testing\n",
    "\n",
    "model_h.evaluate(x_ts_flat,y_ts)"
   ]
  },
  {
   "cell_type": "code",
   "execution_count": 31,
   "id": "dfdaefb5",
   "metadata": {},
   "outputs": [
    {
     "name": "stdout",
     "output_type": "stream",
     "text": [
      "313/313 [==============================] - 1s 2ms/step\n"
     ]
    }
   ],
   "source": [
    "y_pred=model_h.predict(x_ts_flat)"
   ]
  },
  {
   "cell_type": "code",
   "execution_count": 32,
   "id": "df40b926",
   "metadata": {},
   "outputs": [
    {
     "data": {
      "text/plain": [
       "[7, 2, 1, 0, 4]"
      ]
     },
     "execution_count": 32,
     "metadata": {},
     "output_type": "execute_result"
    }
   ],
   "source": [
    "# extract the prediction value\n",
    "y_prediction=[np.argmax(i) for i in y_pred]\n",
    "y_prediction[:5]"
   ]
  },
  {
   "cell_type": "code",
   "execution_count": 33,
   "id": "2e52522e",
   "metadata": {},
   "outputs": [
    {
     "data": {
      "text/plain": [
       "array([[ 967,    0,    1,    2,    1,    1,    3,    1,    2,    2],\n",
       "       [   0, 1126,    4,    1,    0,    1,    1,    0,    2,    0],\n",
       "       [   4,    0, 1013,    2,    4,    0,    2,    2,    4,    1],\n",
       "       [   0,    0,    5,  999,    1,    0,    0,    2,    3,    0],\n",
       "       [   0,    0,    4,    0,  971,    0,    2,    1,    0,    4],\n",
       "       [   2,    0,    1,   19,    1,  858,    4,    1,    3,    3],\n",
       "       [   2,    2,    1,    2,    5,    1,  940,    0,    5,    0],\n",
       "       [   0,    5,   10,   13,    4,    0,    0,  986,    1,    9],\n",
       "       [   3,    1,    6,   12,    5,    5,    2,    2,  936,    2],\n",
       "       [   1,    6,    1,    9,   16,    1,    0,    5,    2,  968]],\n",
       "      dtype=int64)"
      ]
     },
     "execution_count": 33,
     "metadata": {},
     "output_type": "execute_result"
    }
   ],
   "source": [
    "# confusion matrices\n",
    "\n",
    "cm=confusion_matrix(y_ts,y_prediction)\n",
    "cm"
   ]
  },
  {
   "cell_type": "code",
   "execution_count": 34,
   "id": "8aefe75c",
   "metadata": {},
   "outputs": [
    {
     "data": {
      "text/plain": [
       "<sklearn.metrics._plot.confusion_matrix.ConfusionMatrixDisplay at 0x1352c418e80>"
      ]
     },
     "execution_count": 34,
     "metadata": {},
     "output_type": "execute_result"
    },
    {
     "data": {
      "image/png": "[encoded data removed]",
      "text/plain": [
       "<Figure size 432x288 with 2 Axes>"
      ]
     },
     "metadata": {
      "needs_background": "light"
     },
     "output_type": "display_data"
    }
   ],
   "source": [
    "disp=ConfusionMatrixDisplay(cm)\n",
    "disp.plot()"
   ]
  },
  {
   "cell_type": "code",
   "execution_count": null,
   "id": "41d07f99",
   "metadata": {},
   "outputs": [],
   "source": []
  }
 ],
 "metadata": {
  "kernelspec": {
   "display_name": "Python 3 (ipykernel)",
   "language": "python",
   "name": "python3"
  },
  "language_info": {
   "codemirror_mode": {
    "name": "ipython",
    "version": 3
   },
   "file_extension": ".py",
   "mimetype": "text/x-python",
   "name": "python",
   "nbconvert_exporter": "python",
   "pygments_lexer": "ipython3",
   "version": "3.9.12"
  }
 },
 "nbformat": 4,
 "nbformat_minor": 5
}
